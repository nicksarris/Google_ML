{
 "cells": [
  {
   "cell_type": "code",
   "execution_count": null,
   "metadata": {
    "_cell_guid": "b1076dfc-b9ad-4769-8c92-a6c4dae69d19",
    "_uuid": "8f2839f25d086af736a60e9eeb907d3b93b6e0e5"
   },
   "outputs": [],
   "source": [
    "__author__ = 'Nick Sarris (ngs5st)'\n",
    "\n",
    "import os\n",
    "import gc\n",
    "import time\n",
    "import random\n",
    "import numpy as np\n",
    "import pandas as pd\n",
    "import lightgbm as lgb\n",
    "\n",
    "from datetime import datetime\n",
    "from sklearn.metrics import roc_auc_score\n",
    "from sklearn.model_selection import KFold\n",
    "from scipy.stats import skew, boxcox\n",
    "from sklearn.preprocessing import StandardScaler\n",
    "import itertools\n",
    "\n",
    "print(os.listdir(\"./data\"))"
   ]
  },
  {
   "cell_type": "code",
   "execution_count": null,
   "metadata": {
    "_cell_guid": "79c7e3d0-c299-4dcb-8224-4455121ee9b0",
    "_uuid": "d629ff2d2480ee46fbb7e2d37f6b5fab8052498a"
   },
   "outputs": [],
   "source": [
    "def seed_everything(seed=1235):\n",
    "    random.seed(seed)\n",
    "    os.environ['PYTHONHASHSEED'] = str(seed)\n",
    "    np.random.seed(seed)\n",
    "\n",
    "seed_everything(1235)"
   ]
  },
  {
   "cell_type": "code",
   "execution_count": null,
   "metadata": {},
   "outputs": [],
   "source": [
    "start_time = time.time()\n",
    "print(\"Loading Data ...\")\n",
    "  \n",
    "features = [\n",
    "    'reordered_sum', 'add_to_cart_order_inverted_mean', 'add_to_cart_order_relative_mean',\n",
    "    'reorder_prob',  'last', 'prev1', 'prev2', 'median', 'mean', 'dep_reordered_ratio',\n",
    "    'aisle_reordered_ratio', 'aisle_products', 'aisle_reordered', 'dep_products', 'dep_reordered',\n",
    "    'prod_users_unq', 'prod_users_unq_reordered', 'order_number', 'prod_add_to_card_mean',\n",
    "    'days_since_prior_order', 'order_dow', 'order_hour_of_day', 'reorder_ration',\n",
    "    'user_orders', 'user_order_starts_at', 'user_mean_days_since_prior',\n",
    "    'user_average_basket', 'user_distinct_products', 'user_reorder_ratio', 'user_total_products',\n",
    "    'prod_orders', 'prod_reorders', 'up_order_rate', 'up_orders_since_last_order',\n",
    "    'up_order_rate_since_first_order', 'up_orders', 'up_first_order', 'up_last_order',\n",
    "    'up_mean_cart_position', 'days_since_prior_order_mean', 'order_dow_mean', 'order_hour_of_day_mean',\n",
    "    'user_product_reordered_ratio', 'order_id', 'product_id']\n",
    "\n",
    "categories = ['product_id', 'aisle_id', 'department_id']\n",
    "features.extend(categories)\n",
    "\n",
    "directory = \"./data/\"\n",
    "train_df = pd.read_csv(directory + \"order_train.csv\", usecols=features + ['reordered'])\n",
    "test_df = pd.read_csv(directory + \"order_test.csv\", usecols=features)\n",
    "\n",
    "order_ids = test_df['order_id'].values\n",
    "product_ids = test_df['product_id'].values\n",
    "labels = train_df[['reordered']].values.astype(np.float32).flatten()\n",
    "\n",
    "train_df.drop(['reordered', 'order_id', 'product_id'], inplace=True, axis=1)\n",
    "test_df.drop(['order_id', 'product_id'], inplace=True, axis=1)\n",
    "\n",
    "print(\"--- %s seconds ---\" % (time.time() - start_time))"
   ]
  },
  {
   "cell_type": "code",
   "execution_count": null,
   "metadata": {},
   "outputs": [],
   "source": [
    "class LgbWrapper(object):\n",
    "    \n",
    "    def __init__(self, seed=2017, params=None):\n",
    "        self.param = params\n",
    "        self.param['seed'] = seed\n",
    "\n",
    "    def train(self, xtra, ytra, xte, yte):\n",
    "        ytra = ytra.ravel()\n",
    "        yte = yte.ravel()\n",
    "        dtrain = lgb.Dataset(xtra, label=ytra)\n",
    "        dvalid = lgb.Dataset(xte, label=yte)\n",
    "        watchlist = [dvalid]\n",
    "        self.gbdt = lgb.train(self.param, dtrain, 400, \n",
    "            watchlist, early_stopping_rounds=10, verbose_eval=20)\n",
    "\n",
    "    def predict(self, x):\n",
    "        return self.gbdt.predict(x)"
   ]
  },
  {
   "cell_type": "code",
   "execution_count": null,
   "metadata": {},
   "outputs": [],
   "source": [
    "def get_oof(clf, ntrain, ntest, kf, train, labels, test):\n",
    "\n",
    "    oof_train = np.zeros((ntrain,))\n",
    "    oof_test = np.zeros((ntest,))\n",
    "    oof_test_skf = np.empty((5, ntest))\n",
    "\n",
    "    for i, (train_index, test_index) in enumerate(kf):\n",
    "        x_tr = train[train_index]\n",
    "        y_tr = labels[train_index]\n",
    "        x_te = train[test_index]\n",
    "        y_te = labels[test_index]\n",
    "\n",
    "        clf.train(x_tr, y_tr, x_te, y_te)\n",
    "        oof_train[test_index] = clf.predict(x_te)\n",
    "        oof_test_skf[i, :] = clf.predict(test)\n",
    "\n",
    "    oof_test[:] = oof_test_skf.mean(axis=0)\n",
    "    return oof_train.reshape(-1, 1), oof_test.reshape(-1, 1)"
   ]
  },
  {
   "cell_type": "code",
   "execution_count": null,
   "metadata": {},
   "outputs": [],
   "source": [
    "start_time = time.time()\n",
    "print(\"Splitting Data ...\")\n",
    "\n",
    "train_df = np.array(train_df)\n",
    "test_df = np.array(test_df)\n",
    "labels = np.array(labels)\n",
    "\n",
    "ntrain = train_df.shape[0]\n",
    "ntest = test_df.shape[0]\n",
    "\n",
    "print(\"--- %s seconds ---\" % (time.time() - start_time))"
   ]
  },
  {
   "cell_type": "code",
   "execution_count": null,
   "metadata": {},
   "outputs": [],
   "source": [
    "start_time = time.time()\n",
    "print(\"Establishing Parameters ...\")\n",
    "\n",
    "lgb_params = {}\n",
    "lgb_params['task'] = 'train'\n",
    "lgb_params['boosting_type'] = 'gbdt'\n",
    "lgb_params['objective'] = 'binary'\n",
    "lgb_params['metric'] = {'binary_logloss', 'auc'}\n",
    "lgb_params['num_leaves'] = 256\n",
    "lgb_params['min_sum_hessian_in_leaf'] = 20\n",
    "lgb_params['max_depth'] = 12\n",
    "lgb_params['learning_rate'] = 0.05\n",
    "lgb_params['feature_fraction'] = 0.6\n",
    "lgb_params['verbose'] = 1\n",
    "\n",
    "print(\"--- %s seconds ---\" % (time.time() - start_time))"
   ]
  },
  {
   "cell_type": "code",
   "execution_count": null,
   "metadata": {},
   "outputs": [],
   "source": [
    "start_time = time.time()\n",
    "print(\"Training Model ...\")\n",
    "\n",
    "lg = LgbWrapper(seed=2017, params=lgb_params)\n",
    "kf = KFold(n_splits=5, shuffle=True, random_state=2018).split(train_df)\n",
    "lg_oof_train, lg_oof_test = get_oof(lg, ntrain, ntest, kf, train_df, labels, test_df)\n",
    "print(\"LG-CV: {}\".format(roc_auc_score(labels, lg_oof_train)))\n",
    "\n",
    "print(\"--- %s seconds ---\" % (time.time() - start_time))"
   ]
  },
  {
   "cell_type": "code",
   "execution_count": null,
   "metadata": {},
   "outputs": [],
   "source": [
    "start_time = time.time()\n",
    "print(\"Generate Submission ...\")\n",
    "\n",
    "submission = pd.DataFrame()\n",
    "submission[\"order_id\"] = order_ids\n",
    "submission[\"product_id\"] = product_ids\n",
    "submission['prediction'] = lg_oof_test\n",
    "submission.to_csv(\"./data/output_data.csv\", index=False)\n",
    "\n",
    "print(\"--- %s seconds ---\" % (time.time() - start_time))"
   ]
  }
 ],
 "metadata": {
  "kernelspec": {
   "display_name": "Python 3",
   "language": "python",
   "name": "python3"
  },
  "language_info": {
   "codemirror_mode": {
    "name": "ipython",
    "version": 3
   },
   "file_extension": ".py",
   "mimetype": "text/x-python",
   "name": "python",
   "nbconvert_exporter": "python",
   "pygments_lexer": "ipython3",
   "version": "3.7.3"
  }
 },
 "nbformat": 4,
 "nbformat_minor": 1
}
