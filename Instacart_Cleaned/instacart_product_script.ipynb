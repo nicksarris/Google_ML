{
 "cells": [
  {
   "cell_type": "code",
   "execution_count": null,
   "metadata": {
    "_cell_guid": "b1076dfc-b9ad-4769-8c92-a6c4dae69d19",
    "_uuid": "8f2839f25d086af736a60e9eeb907d3b93b6e0e5"
   },
   "outputs": [],
   "source": [
    "__author__ = 'Nick Sarris (ngs5st)'\n",
    "\n",
    "import os\n",
    "import time\n",
    "import random\n",
    "import numpy as np\n",
    "import pandas as pd\n",
    "import lightgbm as lgb\n",
    "\n",
    "from datetime import datetime\n",
    "from sklearn.metrics import mean_absolute_error\n",
    "from sklearn.model_selection import KFold\n",
    "from scipy.stats import skew, boxcox\n",
    "from sklearn.preprocessing import StandardScaler\n",
    "import itertools\n",
    "\n",
    "print(os.listdir(\"./data\"))"
   ]
  },
  {
   "cell_type": "code",
   "execution_count": null,
   "metadata": {
    "_cell_guid": "79c7e3d0-c299-4dcb-8224-4455121ee9b0",
    "_uuid": "d629ff2d2480ee46fbb7e2d37f6b5fab8052498a"
   },
   "outputs": [],
   "source": [
    "def seed_everything(seed=1235):\n",
    "    random.seed(seed)\n",
    "    os.environ['PYTHONHASHSEED'] = str(seed)\n",
    "    np.random.seed(seed)\n",
    "\n",
    "seed_everything(1235)"
   ]
  },
  {
   "cell_type": "code",
   "execution_count": null,
   "metadata": {},
   "outputs": [],
   "source": [
    "start_time = time.time()\n",
    "print(\"Loading Data ...\")\n",
    "\n",
    "directory = \"./data/\"\n",
    "    \n",
    "order_prior = pd.read_csv(directory + 'order_products__prior.csv', dtype={\n",
    "    'order_id': np.uint32, 'product_id': np.uint16, 'add_to_cart_order': np.uint8,\n",
    "    'reordered': bool})\n",
    "\n",
    "orders = pd.read_csv(directory + 'orders.csv', dtype={\n",
    "    'order_id': np.uint32, 'user_id': np.uint32, 'eval_set': 'category',\n",
    "    'order_number': np.uint8, 'order_dow': np.uint8, 'order_hour_of_day': np.uint8})\n",
    "\n",
    "labels = pd.read_pickle(directory + 'chunk_0.pkl')\n",
    "user_product = pd.read_pickle(directory + 'previous_products.pkl')\n",
    "\n",
    "print(\"--- %s seconds ---\" % (time.time() - start_time))"
   ]
  },
  {
   "cell_type": "code",
   "execution_count": null,
   "metadata": {},
   "outputs": [],
   "source": [
    "start_time = time.time()\n",
    "print(\"Processing Orders [1] ...\")\n",
    "\n",
    "order_comsum = orders[['user_id', 'order_number', 'days_since_prior_order']].groupby(\n",
    "    ['user_id', 'order_number'])['days_since_prior_order'].sum().groupby(\n",
    "    level=[0]).cumsum().reset_index().rename(columns={\n",
    "    'days_since_prior_order':'days_since_prior_order_comsum'})\n",
    "\n",
    "order_comsum.to_pickle('./data/orders_comsum.pkl')\n",
    "\n",
    "print(\"--- %s seconds ---\" % (time.time() - start_time))"
   ]
  },
  {
   "cell_type": "code",
   "execution_count": null,
   "metadata": {},
   "outputs": [],
   "source": [
    "start_time = time.time()\n",
    "print(\"Processing Orders [2] ...\")\n",
    "\n",
    "order_comsum = pd.merge(order_comsum, orders, on=['user_id', 'order_number']) \\\n",
    "    [['user_id', 'order_number', 'days_since_prior_order_comsum', 'order_id']]\n",
    "\n",
    "order_product = pd.merge(order_prior, orders, on='order_id')[['order_id', 'product_id', 'eval_set']]\n",
    "order_product_train_test = labels[['order_id', 'product_id', 'eval_set']]\n",
    "order_product = pd.concat([order_product, order_product_train_test])\n",
    "order_product = pd.merge(order_product, order_comsum, on='order_id')\n",
    "\n",
    "order_product = pd.merge(order_product, user_product, on=['user_id', 'product_id'])\n",
    "temp = order_product.groupby(['user_id', 'product_id', 'order_number'])\\\n",
    "    ['days_since_prior_order_comsum'].sum().groupby(level=[0, 1]).apply(\n",
    "    lambda x: np.diff(np.nan_to_num(x)))\n",
    "\n",
    "temp = temp.to_frame('periods').reset_index()\n",
    "temp.to_pickle('./data/product_period.pkl')\n",
    "\n",
    "print(\"--- %s seconds ---\" % (time.time() - start_time))"
   ]
  },
  {
   "cell_type": "code",
   "execution_count": null,
   "metadata": {},
   "outputs": [],
   "source": [
    "start_time = time.time()\n",
    "print(\"Processing Orders [3] ...\")\n",
    "\n",
    "aggregated = temp.copy()\n",
    "aggregated['last'] = aggregated.periods.apply(lambda x: x[-1])\n",
    "aggregated['prev1'] = aggregated.periods.apply(lambda x: x[-2] if len(x) > 1 else np.nan)\n",
    "aggregated['prev2'] = aggregated.periods.apply(lambda x: x[-3] if len(x) > 2 else np.nan)\n",
    "aggregated['median'] = aggregated.periods.apply(lambda x: np.median(x[:-1]))\n",
    "aggregated['mean'] = aggregated.periods.apply(lambda x: np.mean(x[:-1]))\n",
    "aggregated.drop('periods', axis=1, inplace=True)\n",
    "aggregated.to_pickle('./data/product_periods_stat.pkl')\n",
    "\n",
    "print(\"--- %s seconds ---\" % (time.time() - start_time))"
   ]
  }
 ],
 "metadata": {
  "kernelspec": {
   "display_name": "Python 3",
   "language": "python",
   "name": "python3"
  },
  "language_info": {
   "codemirror_mode": {
    "name": "ipython",
    "version": 3
   },
   "file_extension": ".py",
   "mimetype": "text/x-python",
   "name": "python",
   "nbconvert_exporter": "python",
   "pygments_lexer": "ipython3",
   "version": "3.7.3"
  }
 },
 "nbformat": 4,
 "nbformat_minor": 1
}
