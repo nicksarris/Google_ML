{
 "cells": [
  {
   "cell_type": "code",
   "execution_count": null,
   "metadata": {
    "_cell_guid": "b1076dfc-b9ad-4769-8c92-a6c4dae69d19",
    "_uuid": "8f2839f25d086af736a60e9eeb907d3b93b6e0e5"
   },
   "outputs": [],
   "source": [
    "__author__ = 'Nick Sarris (ngs5st)'\n",
    "\n",
    "import os\n",
    "import time\n",
    "import random\n",
    "import numpy as np\n",
    "import pandas as pd\n",
    "import lightgbm as lgb\n",
    "\n",
    "from datetime import datetime\n",
    "from sklearn.metrics import mean_absolute_error\n",
    "from sklearn.model_selection import KFold\n",
    "from scipy.stats import skew, boxcox\n",
    "from sklearn.preprocessing import StandardScaler\n",
    "import itertools\n",
    "\n",
    "print(os.listdir(\"./data\"))"
   ]
  },
  {
   "cell_type": "code",
   "execution_count": null,
   "metadata": {
    "_cell_guid": "79c7e3d0-c299-4dcb-8224-4455121ee9b0",
    "_uuid": "d629ff2d2480ee46fbb7e2d37f6b5fab8052498a"
   },
   "outputs": [],
   "source": [
    "def seed_everything(seed=1235):\n",
    "    random.seed(seed)\n",
    "    os.environ['PYTHONHASHSEED'] = str(seed)\n",
    "    np.random.seed(seed)\n",
    "\n",
    "seed_everything(1235)"
   ]
  },
  {
   "cell_type": "code",
   "execution_count": null,
   "metadata": {},
   "outputs": [],
   "source": [
    "start_time = time.time()\n",
    "print(\"Loading Data ...\")\n",
    "  \n",
    "directory = \"./data/\"\n",
    "\n",
    "order_train = pd.read_csv(directory + 'order_products__train.csv', dtype={\n",
    "    'order_id': np.uint32, 'product_id': np.uint16, 'add_to_cart_order':np.uint8,\n",
    "    'reordered': bool})\n",
    "orders = pd.read_csv(directory + 'orders.csv', dtype={\n",
    "    'order_id':np.uint32, 'user_id': np.uint32, 'eval_set': 'category',\n",
    "    'order_number':np.uint8, 'order_dow': np.uint8, 'order_hour_of_day': np.uint8})\n",
    "labels = pd.read_pickle(directory + 'previous_products.pkl')\n",
    "\n",
    "print(\"--- %s seconds ---\" % (time.time() - start_time))"
   ]
  },
  {
   "cell_type": "code",
   "execution_count": null,
   "metadata": {},
   "outputs": [],
   "source": [
    "start_time = time.time()\n",
    "print(\"Establish Orders ...\")\n",
    "\n",
    "orders = orders.loc[(orders.eval_set == 'train') | (orders.eval_set == 'test'), :]\n",
    "labels = pd.merge(labels, orders[['order_id', 'user_id', 'eval_set']], on='user_id')\\\n",
    "    .drop(['user_id'], axis=1)\n",
    "order_train.drop(['add_to_cart_order'], axis=1, inplace=True)\n",
    "\n",
    "print(\"--- %s seconds ---\" % (time.time() - start_time))"
   ]
  },
  {
   "cell_type": "code",
   "execution_count": null,
   "metadata": {},
   "outputs": [],
   "source": [
    "start_time = time.time()\n",
    "print(\"Establish Orders ...\")\n",
    "\n",
    "orders = np.unique(labels.order_id)\n",
    "size = orders.shape[0]\n",
    "\n",
    "fold = 0\n",
    "current = orders[fold * size:(fold + 1) * size]\n",
    "current = labels.loc[np.in1d(labels.order_id, current), :]\n",
    "current = pd.merge(order_train, current, on=['order_id', 'product_id'], how='right')\n",
    "current.reordered.fillna(False, inplace=True)\n",
    "current.to_pickle('./data/chunk_{}.pkl'.format(fold))\n",
    "\n",
    "print(\"--- %s seconds ---\" % (time.time() - start_time))"
   ]
  }
 ],
 "metadata": {
  "kernelspec": {
   "display_name": "Python 3",
   "language": "python",
   "name": "python3"
  },
  "language_info": {
   "codemirror_mode": {
    "name": "ipython",
    "version": 3
   },
   "file_extension": ".py",
   "mimetype": "text/x-python",
   "name": "python",
   "nbconvert_exporter": "python",
   "pygments_lexer": "ipython3",
   "version": "3.7.3"
  }
 },
 "nbformat": 4,
 "nbformat_minor": 1
}
