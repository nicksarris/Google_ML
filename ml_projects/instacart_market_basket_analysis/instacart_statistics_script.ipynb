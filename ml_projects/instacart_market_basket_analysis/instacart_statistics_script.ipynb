{
 "cells": [
  {
   "cell_type": "code",
   "execution_count": null,
   "metadata": {
    "_cell_guid": "b1076dfc-b9ad-4769-8c92-a6c4dae69d19",
    "_uuid": "8f2839f25d086af736a60e9eeb907d3b93b6e0e5"
   },
   "outputs": [],
   "source": [
    "__author__ = 'Nick Sarris (ngs5st)'\n",
    "\n",
    "import os\n",
    "import time\n",
    "import random\n",
    "import numpy as np\n",
    "import pandas as pd\n",
    "import lightgbm as lgb\n",
    "\n",
    "from datetime import datetime\n",
    "from sklearn.metrics import mean_absolute_error\n",
    "from sklearn.model_selection import KFold\n",
    "from scipy.stats import skew, boxcox\n",
    "from sklearn.preprocessing import StandardScaler\n",
    "import itertools\n",
    "\n",
    "print(os.listdir(\"./data\"))"
   ]
  },
  {
   "cell_type": "code",
   "execution_count": null,
   "metadata": {
    "_cell_guid": "79c7e3d0-c299-4dcb-8224-4455121ee9b0",
    "_uuid": "d629ff2d2480ee46fbb7e2d37f6b5fab8052498a"
   },
   "outputs": [],
   "source": [
    "def seed_everything(seed=1235):\n",
    "    random.seed(seed)\n",
    "    os.environ['PYTHONHASHSEED'] = str(seed)\n",
    "    np.random.seed(seed)\n",
    "\n",
    "seed_everything(1235)"
   ]
  },
  {
   "cell_type": "code",
   "execution_count": null,
   "metadata": {},
   "outputs": [],
   "source": [
    "start_time = time.time()\n",
    "print(\"Loading Data ...\")\n",
    "\n",
    "directory = './data/'\n",
    "\n",
    "order_prior = pd.read_csv(directory + \"order_products__prior.csv\", dtype={\n",
    "    'order_id': np.uint32, 'product_id': np.uint16, 'add_to_cart_order': np.uint8,\n",
    "    'reordered': bool})\n",
    "orders = pd.read_csv(directory + \"orders.csv\", dtype={\n",
    "    'order_id': np.uint32, 'user_id': np.uint32, 'eval_set': 'category',\n",
    "    'order_number': np.uint8, 'order_dow': np.uint8, 'order_hour_of_day': np.uint8})\n",
    "products = pd.read_csv(directory + \"products.csv\", dtype={\n",
    "    'product_id': np.uint16, 'aisle_id': np.uint8, 'department_id': np.uint8})\n",
    "\n",
    "print(\"--- %s seconds ---\" % (time.time() - start_time))"
   ]
  },
  {
   "cell_type": "code",
   "execution_count": null,
   "metadata": {},
   "outputs": [],
   "source": [
    "start_time = time.time()\n",
    "print(\"Processing Orders ...\")\n",
    "\n",
    "orders_products = pd.merge(orders, order_prior, on=\"order_id\")\n",
    "orders_products_products = pd.merge(orders_products, products[\n",
    "    ['product_id', 'department_id', 'aisle_id']], on='product_id')\n",
    "\n",
    "print(\"--- %s seconds ---\" % (time.time() - start_time))"
   ]
  },
  {
   "cell_type": "code",
   "execution_count": null,
   "metadata": {},
   "outputs": [],
   "source": [
    "start_time = time.time()\n",
    "print(\"Processing Departments ...\")\n",
    "\n",
    "user_dep_stat = orders_products_products.groupby(\n",
    "    ['user_id', 'department_id']).agg( {'product_id': lambda x: x.nunique(),\n",
    "     'reordered': 'sum'})\n",
    "\n",
    "user_dep_stat.rename(columns={\n",
    "    'product_id': 'dep_products',\n",
    "    'reordered': 'dep_reordered'}, inplace=True)\n",
    "user_dep_stat.reset_index(inplace=True)\n",
    "user_dep_stat.to_pickle('./data/user_department_products.pkl')\n",
    "\n",
    "print(\"--- %s seconds ---\" % (time.time() - start_time))"
   ]
  },
  {
   "cell_type": "code",
   "execution_count": null,
   "metadata": {},
   "outputs": [],
   "source": [
    "start_time = time.time()\n",
    "print(\"Processing Aisles ...\")\n",
    "\n",
    "user_aisle_stat = orders_products_products.groupby(\n",
    "    ['user_id', 'aisle_id']).agg({'product_id': lambda x: x.nunique(),\n",
    "     'reordered': 'sum'})\n",
    "\n",
    "user_aisle_stat.rename(columns={\n",
    "    'product_id': 'aisle_products',\n",
    "    'reordered': 'aisle_reordered'}, inplace=True)\n",
    "user_aisle_stat.reset_index(inplace=True)\n",
    "user_aisle_stat.to_pickle('./data/user_aisle_products.pkl')\n",
    "\n",
    "print(\"--- %s seconds ---\" % (time.time() - start_time))"
   ]
  }
 ],
 "metadata": {
  "kernelspec": {
   "display_name": "Python 3",
   "language": "python",
   "name": "python3"
  },
  "language_info": {
   "codemirror_mode": {
    "name": "ipython",
    "version": 3
   },
   "file_extension": ".py",
   "mimetype": "text/x-python",
   "name": "python",
   "nbconvert_exporter": "python",
   "pygments_lexer": "ipython3",
   "version": "3.7.3"
  }
 },
 "nbformat": 4,
 "nbformat_minor": 1
}
